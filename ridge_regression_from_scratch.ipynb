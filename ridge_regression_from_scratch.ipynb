{
 "cells": [
  {
   "cell_type": "code",
   "execution_count": 54,
   "metadata": {},
   "outputs": [],
   "source": [
    "import pandas as pd\n",
    "import numpy as np\n",
    "import matplotlib.pyplot as plt\n",
    "%matplotlib inline\n",
    "import warnings\n",
    "warnings.filterwarnings(\"ignore\")"
   ]
  },
  {
   "cell_type": "code",
   "execution_count": 53,
   "metadata": {},
   "outputs": [],
   "source": [
    "df=pd.read_csv(\"linearreg.csv\",names=[\"Sex\",\"Length\",\"Diameter\",\"Height\",\"Whole weight\",\"Shucked weight\",\"Viscera weight\",\"Shell weight\",\"Rings\"\n",
    "])"
   ]
  },
  {
   "cell_type": "code",
   "execution_count": 63,
   "metadata": {},
   "outputs": [
    {
     "name": "stdout",
     "output_type": "stream",
     "text": [
      "<class 'pandas.core.frame.DataFrame'>\n",
      "RangeIndex: 4177 entries, 0 to 4176\n",
      "Data columns (total 9 columns):\n",
      "Sex               4177 non-null object\n",
      "Length            4177 non-null float64\n",
      "Diameter          4177 non-null float64\n",
      "Height            4177 non-null float64\n",
      "Whole weight      4177 non-null float64\n",
      "Shucked weight    4177 non-null float64\n",
      "Viscera weight    4177 non-null float64\n",
      "Shell weight      4177 non-null float64\n",
      "Rings             4177 non-null int64\n",
      "dtypes: float64(7), int64(1), object(1)\n",
      "memory usage: 293.8+ KB\n"
     ]
    }
   ],
   "source": [
    "df.info()"
   ]
  },
  {
   "cell_type": "code",
   "execution_count": 64,
   "metadata": {},
   "outputs": [
    {
     "data": {
      "text/html": [
       "<div>\n",
       "<style>\n",
       "    .dataframe thead tr:only-child th {\n",
       "        text-align: right;\n",
       "    }\n",
       "\n",
       "    .dataframe thead th {\n",
       "        text-align: left;\n",
       "    }\n",
       "\n",
       "    .dataframe tbody tr th {\n",
       "        vertical-align: top;\n",
       "    }\n",
       "</style>\n",
       "<table border=\"1\" class=\"dataframe\">\n",
       "  <thead>\n",
       "    <tr style=\"text-align: right;\">\n",
       "      <th></th>\n",
       "      <th>Sex</th>\n",
       "      <th>Length</th>\n",
       "      <th>Diameter</th>\n",
       "      <th>Height</th>\n",
       "      <th>Whole weight</th>\n",
       "      <th>Shucked weight</th>\n",
       "      <th>Viscera weight</th>\n",
       "      <th>Shell weight</th>\n",
       "      <th>Rings</th>\n",
       "    </tr>\n",
       "  </thead>\n",
       "  <tbody>\n",
       "    <tr>\n",
       "      <th>0</th>\n",
       "      <td>M</td>\n",
       "      <td>0.455</td>\n",
       "      <td>0.365</td>\n",
       "      <td>0.095</td>\n",
       "      <td>0.5140</td>\n",
       "      <td>0.2245</td>\n",
       "      <td>0.1010</td>\n",
       "      <td>0.150</td>\n",
       "      <td>15</td>\n",
       "    </tr>\n",
       "    <tr>\n",
       "      <th>1</th>\n",
       "      <td>M</td>\n",
       "      <td>0.350</td>\n",
       "      <td>0.265</td>\n",
       "      <td>0.090</td>\n",
       "      <td>0.2255</td>\n",
       "      <td>0.0995</td>\n",
       "      <td>0.0485</td>\n",
       "      <td>0.070</td>\n",
       "      <td>7</td>\n",
       "    </tr>\n",
       "    <tr>\n",
       "      <th>2</th>\n",
       "      <td>F</td>\n",
       "      <td>0.530</td>\n",
       "      <td>0.420</td>\n",
       "      <td>0.135</td>\n",
       "      <td>0.6770</td>\n",
       "      <td>0.2565</td>\n",
       "      <td>0.1415</td>\n",
       "      <td>0.210</td>\n",
       "      <td>9</td>\n",
       "    </tr>\n",
       "    <tr>\n",
       "      <th>3</th>\n",
       "      <td>M</td>\n",
       "      <td>0.440</td>\n",
       "      <td>0.365</td>\n",
       "      <td>0.125</td>\n",
       "      <td>0.5160</td>\n",
       "      <td>0.2155</td>\n",
       "      <td>0.1140</td>\n",
       "      <td>0.155</td>\n",
       "      <td>10</td>\n",
       "    </tr>\n",
       "    <tr>\n",
       "      <th>4</th>\n",
       "      <td>I</td>\n",
       "      <td>0.330</td>\n",
       "      <td>0.255</td>\n",
       "      <td>0.080</td>\n",
       "      <td>0.2050</td>\n",
       "      <td>0.0895</td>\n",
       "      <td>0.0395</td>\n",
       "      <td>0.055</td>\n",
       "      <td>7</td>\n",
       "    </tr>\n",
       "  </tbody>\n",
       "</table>\n",
       "</div>"
      ],
      "text/plain": [
       "  Sex  Length  Diameter  Height  Whole weight  Shucked weight  Viscera weight  \\\n",
       "0   M   0.455     0.365   0.095        0.5140          0.2245          0.1010   \n",
       "1   M   0.350     0.265   0.090        0.2255          0.0995          0.0485   \n",
       "2   F   0.530     0.420   0.135        0.6770          0.2565          0.1415   \n",
       "3   M   0.440     0.365   0.125        0.5160          0.2155          0.1140   \n",
       "4   I   0.330     0.255   0.080        0.2050          0.0895          0.0395   \n",
       "\n",
       "   Shell weight  Rings  \n",
       "0         0.150     15  \n",
       "1         0.070      7  \n",
       "2         0.210      9  \n",
       "3         0.155     10  \n",
       "4         0.055      7  "
      ]
     },
     "execution_count": 64,
     "metadata": {},
     "output_type": "execute_result"
    }
   ],
   "source": [
    "df.head()"
   ]
  },
  {
   "cell_type": "code",
   "execution_count": 55,
   "metadata": {},
   "outputs": [],
   "source": [
    "#question 1a- creating dummy columns for sex\n",
    "df_dummy=pd.get_dummies(df)"
   ]
  },
  {
   "cell_type": "code",
   "execution_count": 56,
   "metadata": {},
   "outputs": [
    {
     "data": {
      "text/html": [
       "<div>\n",
       "<style>\n",
       "    .dataframe thead tr:only-child th {\n",
       "        text-align: right;\n",
       "    }\n",
       "\n",
       "    .dataframe thead th {\n",
       "        text-align: left;\n",
       "    }\n",
       "\n",
       "    .dataframe tbody tr th {\n",
       "        vertical-align: top;\n",
       "    }\n",
       "</style>\n",
       "<table border=\"1\" class=\"dataframe\">\n",
       "  <thead>\n",
       "    <tr style=\"text-align: right;\">\n",
       "      <th></th>\n",
       "      <th>Length</th>\n",
       "      <th>Diameter</th>\n",
       "      <th>Height</th>\n",
       "      <th>Whole weight</th>\n",
       "      <th>Shucked weight</th>\n",
       "      <th>Viscera weight</th>\n",
       "      <th>Shell weight</th>\n",
       "      <th>Rings</th>\n",
       "      <th>Sex_F</th>\n",
       "      <th>Sex_I</th>\n",
       "      <th>Sex_M</th>\n",
       "    </tr>\n",
       "  </thead>\n",
       "  <tbody>\n",
       "    <tr>\n",
       "      <th>0</th>\n",
       "      <td>0.455</td>\n",
       "      <td>0.365</td>\n",
       "      <td>0.095</td>\n",
       "      <td>0.5140</td>\n",
       "      <td>0.2245</td>\n",
       "      <td>0.1010</td>\n",
       "      <td>0.150</td>\n",
       "      <td>15</td>\n",
       "      <td>0</td>\n",
       "      <td>0</td>\n",
       "      <td>1</td>\n",
       "    </tr>\n",
       "    <tr>\n",
       "      <th>1</th>\n",
       "      <td>0.350</td>\n",
       "      <td>0.265</td>\n",
       "      <td>0.090</td>\n",
       "      <td>0.2255</td>\n",
       "      <td>0.0995</td>\n",
       "      <td>0.0485</td>\n",
       "      <td>0.070</td>\n",
       "      <td>7</td>\n",
       "      <td>0</td>\n",
       "      <td>0</td>\n",
       "      <td>1</td>\n",
       "    </tr>\n",
       "    <tr>\n",
       "      <th>2</th>\n",
       "      <td>0.530</td>\n",
       "      <td>0.420</td>\n",
       "      <td>0.135</td>\n",
       "      <td>0.6770</td>\n",
       "      <td>0.2565</td>\n",
       "      <td>0.1415</td>\n",
       "      <td>0.210</td>\n",
       "      <td>9</td>\n",
       "      <td>1</td>\n",
       "      <td>0</td>\n",
       "      <td>0</td>\n",
       "    </tr>\n",
       "    <tr>\n",
       "      <th>3</th>\n",
       "      <td>0.440</td>\n",
       "      <td>0.365</td>\n",
       "      <td>0.125</td>\n",
       "      <td>0.5160</td>\n",
       "      <td>0.2155</td>\n",
       "      <td>0.1140</td>\n",
       "      <td>0.155</td>\n",
       "      <td>10</td>\n",
       "      <td>0</td>\n",
       "      <td>0</td>\n",
       "      <td>1</td>\n",
       "    </tr>\n",
       "    <tr>\n",
       "      <th>4</th>\n",
       "      <td>0.330</td>\n",
       "      <td>0.255</td>\n",
       "      <td>0.080</td>\n",
       "      <td>0.2050</td>\n",
       "      <td>0.0895</td>\n",
       "      <td>0.0395</td>\n",
       "      <td>0.055</td>\n",
       "      <td>7</td>\n",
       "      <td>0</td>\n",
       "      <td>1</td>\n",
       "      <td>0</td>\n",
       "    </tr>\n",
       "  </tbody>\n",
       "</table>\n",
       "</div>"
      ],
      "text/plain": [
       "   Length  Diameter  Height  Whole weight  Shucked weight  Viscera weight  \\\n",
       "0   0.455     0.365   0.095        0.5140          0.2245          0.1010   \n",
       "1   0.350     0.265   0.090        0.2255          0.0995          0.0485   \n",
       "2   0.530     0.420   0.135        0.6770          0.2565          0.1415   \n",
       "3   0.440     0.365   0.125        0.5160          0.2155          0.1140   \n",
       "4   0.330     0.255   0.080        0.2050          0.0895          0.0395   \n",
       "\n",
       "   Shell weight  Rings  Sex_F  Sex_I  Sex_M  \n",
       "0         0.150     15      0      0      1  \n",
       "1         0.070      7      0      0      1  \n",
       "2         0.210      9      1      0      0  \n",
       "3         0.155     10      0      0      1  \n",
       "4         0.055      7      0      1      0  "
      ]
     },
     "execution_count": 56,
     "metadata": {},
     "output_type": "execute_result"
    }
   ],
   "source": [
    "df_dummy.head()"
   ]
  },
  {
   "cell_type": "code",
   "execution_count": 57,
   "metadata": {},
   "outputs": [
    {
     "data": {
      "text/html": [
       "<div>\n",
       "<style>\n",
       "    .dataframe thead tr:only-child th {\n",
       "        text-align: right;\n",
       "    }\n",
       "\n",
       "    .dataframe thead th {\n",
       "        text-align: left;\n",
       "    }\n",
       "\n",
       "    .dataframe tbody tr th {\n",
       "        vertical-align: top;\n",
       "    }\n",
       "</style>\n",
       "<table border=\"1\" class=\"dataframe\">\n",
       "  <thead>\n",
       "    <tr style=\"text-align: right;\">\n",
       "      <th></th>\n",
       "      <th>Length</th>\n",
       "      <th>Diameter</th>\n",
       "      <th>Height</th>\n",
       "      <th>Whole weight</th>\n",
       "      <th>Shucked weight</th>\n",
       "      <th>Viscera weight</th>\n",
       "      <th>Shell weight</th>\n",
       "      <th>Sex_F</th>\n",
       "      <th>Sex_I</th>\n",
       "      <th>Sex_M</th>\n",
       "    </tr>\n",
       "  </thead>\n",
       "  <tbody>\n",
       "    <tr>\n",
       "      <th>0</th>\n",
       "      <td>0.455</td>\n",
       "      <td>0.365</td>\n",
       "      <td>0.095</td>\n",
       "      <td>0.5140</td>\n",
       "      <td>0.2245</td>\n",
       "      <td>0.1010</td>\n",
       "      <td>0.150</td>\n",
       "      <td>0</td>\n",
       "      <td>0</td>\n",
       "      <td>1</td>\n",
       "    </tr>\n",
       "    <tr>\n",
       "      <th>1</th>\n",
       "      <td>0.350</td>\n",
       "      <td>0.265</td>\n",
       "      <td>0.090</td>\n",
       "      <td>0.2255</td>\n",
       "      <td>0.0995</td>\n",
       "      <td>0.0485</td>\n",
       "      <td>0.070</td>\n",
       "      <td>0</td>\n",
       "      <td>0</td>\n",
       "      <td>1</td>\n",
       "    </tr>\n",
       "    <tr>\n",
       "      <th>2</th>\n",
       "      <td>0.530</td>\n",
       "      <td>0.420</td>\n",
       "      <td>0.135</td>\n",
       "      <td>0.6770</td>\n",
       "      <td>0.2565</td>\n",
       "      <td>0.1415</td>\n",
       "      <td>0.210</td>\n",
       "      <td>1</td>\n",
       "      <td>0</td>\n",
       "      <td>0</td>\n",
       "    </tr>\n",
       "    <tr>\n",
       "      <th>3</th>\n",
       "      <td>0.440</td>\n",
       "      <td>0.365</td>\n",
       "      <td>0.125</td>\n",
       "      <td>0.5160</td>\n",
       "      <td>0.2155</td>\n",
       "      <td>0.1140</td>\n",
       "      <td>0.155</td>\n",
       "      <td>0</td>\n",
       "      <td>0</td>\n",
       "      <td>1</td>\n",
       "    </tr>\n",
       "    <tr>\n",
       "      <th>4</th>\n",
       "      <td>0.330</td>\n",
       "      <td>0.255</td>\n",
       "      <td>0.080</td>\n",
       "      <td>0.2050</td>\n",
       "      <td>0.0895</td>\n",
       "      <td>0.0395</td>\n",
       "      <td>0.055</td>\n",
       "      <td>0</td>\n",
       "      <td>1</td>\n",
       "      <td>0</td>\n",
       "    </tr>\n",
       "  </tbody>\n",
       "</table>\n",
       "</div>"
      ],
      "text/plain": [
       "   Length  Diameter  Height  Whole weight  Shucked weight  Viscera weight  \\\n",
       "0   0.455     0.365   0.095        0.5140          0.2245          0.1010   \n",
       "1   0.350     0.265   0.090        0.2255          0.0995          0.0485   \n",
       "2   0.530     0.420   0.135        0.6770          0.2565          0.1415   \n",
       "3   0.440     0.365   0.125        0.5160          0.2155          0.1140   \n",
       "4   0.330     0.255   0.080        0.2050          0.0895          0.0395   \n",
       "\n",
       "   Shell weight  Sex_F  Sex_I  Sex_M  \n",
       "0         0.150      0      0      1  \n",
       "1         0.070      0      0      1  \n",
       "2         0.210      1      0      0  \n",
       "3         0.155      0      0      1  \n",
       "4         0.055      0      1      0  "
      ]
     },
     "execution_count": 57,
     "metadata": {},
     "output_type": "execute_result"
    }
   ],
   "source": [
    "X=df_dummy.drop(\"Rings\",axis=1)\n",
    "y=df_dummy[\"Rings\"]\n",
    "X.head()"
   ]
  },
  {
   "cell_type": "code",
   "execution_count": 58,
   "metadata": {},
   "outputs": [],
   "source": [
    "from sklearn import preprocessing\n",
    "# Create the Scaler object\n",
    "scaler = preprocessing.StandardScaler(with_mean=True, with_std=True)\n",
    "# Fit your data on the scaler object\n",
    "scaled_df = scaler.fit_transform(X)\n",
    "scaled_df = pd.DataFrame(scaled_df)\n",
    "scaled_df.columns=names=[\"Length\",\"Diameter\",\"Height\",\"Whole weight\",\"Shucked weight\",\"Viscera weight\",\"Shell weight\",\n",
    "                                          \"Sex_F\",\"Sex_I\",\"Sex_M\"]"
   ]
  },
  {
   "cell_type": "code",
   "execution_count": 78,
   "metadata": {},
   "outputs": [
    {
     "data": {
      "text/html": [
       "<div>\n",
       "<style>\n",
       "    .dataframe thead tr:only-child th {\n",
       "        text-align: right;\n",
       "    }\n",
       "\n",
       "    .dataframe thead th {\n",
       "        text-align: left;\n",
       "    }\n",
       "\n",
       "    .dataframe tbody tr th {\n",
       "        vertical-align: top;\n",
       "    }\n",
       "</style>\n",
       "<table border=\"1\" class=\"dataframe\">\n",
       "  <thead>\n",
       "    <tr style=\"text-align: right;\">\n",
       "      <th></th>\n",
       "      <th>Length</th>\n",
       "      <th>Diameter</th>\n",
       "      <th>Height</th>\n",
       "      <th>Whole weight</th>\n",
       "      <th>Shucked weight</th>\n",
       "      <th>Viscera weight</th>\n",
       "      <th>Shell weight</th>\n",
       "      <th>Sex_F</th>\n",
       "      <th>Sex_I</th>\n",
       "      <th>Sex_M</th>\n",
       "    </tr>\n",
       "  </thead>\n",
       "  <tbody>\n",
       "    <tr>\n",
       "      <th>0</th>\n",
       "      <td>-0.574558</td>\n",
       "      <td>-0.432149</td>\n",
       "      <td>-1.064424</td>\n",
       "      <td>-0.641898</td>\n",
       "      <td>-0.607685</td>\n",
       "      <td>-0.726212</td>\n",
       "      <td>-0.638217</td>\n",
       "      <td>-0.674834</td>\n",
       "      <td>-0.688018</td>\n",
       "      <td>1.316677</td>\n",
       "    </tr>\n",
       "    <tr>\n",
       "      <th>1</th>\n",
       "      <td>-1.448986</td>\n",
       "      <td>-1.439929</td>\n",
       "      <td>-1.183978</td>\n",
       "      <td>-1.230277</td>\n",
       "      <td>-1.170910</td>\n",
       "      <td>-1.205221</td>\n",
       "      <td>-1.212987</td>\n",
       "      <td>-0.674834</td>\n",
       "      <td>-0.688018</td>\n",
       "      <td>1.316677</td>\n",
       "    </tr>\n",
       "    <tr>\n",
       "      <th>2</th>\n",
       "      <td>0.050033</td>\n",
       "      <td>0.122130</td>\n",
       "      <td>-0.107991</td>\n",
       "      <td>-0.309469</td>\n",
       "      <td>-0.463500</td>\n",
       "      <td>-0.356690</td>\n",
       "      <td>-0.207139</td>\n",
       "      <td>1.481846</td>\n",
       "      <td>-0.688018</td>\n",
       "      <td>-0.759488</td>\n",
       "    </tr>\n",
       "    <tr>\n",
       "      <th>3</th>\n",
       "      <td>-0.699476</td>\n",
       "      <td>-0.432149</td>\n",
       "      <td>-0.347099</td>\n",
       "      <td>-0.637819</td>\n",
       "      <td>-0.648238</td>\n",
       "      <td>-0.607600</td>\n",
       "      <td>-0.602294</td>\n",
       "      <td>-0.674834</td>\n",
       "      <td>-0.688018</td>\n",
       "      <td>1.316677</td>\n",
       "    </tr>\n",
       "    <tr>\n",
       "      <th>4</th>\n",
       "      <td>-1.615544</td>\n",
       "      <td>-1.540707</td>\n",
       "      <td>-1.423087</td>\n",
       "      <td>-1.272086</td>\n",
       "      <td>-1.215968</td>\n",
       "      <td>-1.287337</td>\n",
       "      <td>-1.320757</td>\n",
       "      <td>-0.674834</td>\n",
       "      <td>1.453451</td>\n",
       "      <td>-0.759488</td>\n",
       "    </tr>\n",
       "  </tbody>\n",
       "</table>\n",
       "</div>"
      ],
      "text/plain": [
       "     Length  Diameter    Height  Whole weight  Shucked weight  Viscera weight  \\\n",
       "0 -0.574558 -0.432149 -1.064424     -0.641898       -0.607685       -0.726212   \n",
       "1 -1.448986 -1.439929 -1.183978     -1.230277       -1.170910       -1.205221   \n",
       "2  0.050033  0.122130 -0.107991     -0.309469       -0.463500       -0.356690   \n",
       "3 -0.699476 -0.432149 -0.347099     -0.637819       -0.648238       -0.607600   \n",
       "4 -1.615544 -1.540707 -1.423087     -1.272086       -1.215968       -1.287337   \n",
       "\n",
       "   Shell weight     Sex_F     Sex_I     Sex_M  \n",
       "0     -0.638217 -0.674834 -0.688018  1.316677  \n",
       "1     -1.212987 -0.674834 -0.688018  1.316677  \n",
       "2     -0.207139  1.481846 -0.688018 -0.759488  \n",
       "3     -0.602294 -0.674834 -0.688018  1.316677  \n",
       "4     -1.320757 -0.674834  1.453451 -0.759488  "
      ]
     },
     "execution_count": 78,
     "metadata": {},
     "output_type": "execute_result"
    }
   ],
   "source": [
    "scaled_df.head()"
   ]
  },
  {
   "cell_type": "code",
   "execution_count": 59,
   "metadata": {},
   "outputs": [],
   "source": [
    "from sklearn.model_selection import train_test_split\n",
    "X_train, X_test, y_train, y_test= train_test_split(scaled_df,y,test_size=0.20,random_state=3250)"
   ]
  },
  {
   "cell_type": "code",
   "execution_count": 60,
   "metadata": {},
   "outputs": [],
   "source": [
    "#Question 1B- Standarizing the data\n",
    "for var in X_train.columns:\n",
    "    #print(var)\n",
    "    mean=X_train[var].mean()\n",
    "    std=X_train[var].std()\n",
    "    X_train[var]=(X_train[var]-mean)/std\n",
    "    \n",
    "    \n",
    "#Question 1B- Standarizing the data\n",
    "for var in X_test.columns:\n",
    "    #print(var)\n",
    "    mean=X_train[var].mean()\n",
    "    std=X_train[var].std()\n",
    "    X_test[var]=(X_test[var]-mean)/std"
   ]
  },
  {
   "cell_type": "code",
   "execution_count": 61,
   "metadata": {},
   "outputs": [
    {
     "name": "stdout",
     "output_type": "stream",
     "text": [
      "Length\n",
      "mean after standarization -0.000\n",
      "std after standarization 1.000\n",
      "Diameter\n",
      "mean after standarization -0.000\n",
      "std after standarization 1.000\n",
      "Height\n",
      "mean after standarization 0.000\n",
      "std after standarization 1.000\n",
      "Whole weight\n",
      "mean after standarization 0.000\n",
      "std after standarization 1.000\n",
      "Shucked weight\n",
      "mean after standarization -0.000\n",
      "std after standarization 1.000\n",
      "Viscera weight\n",
      "mean after standarization -0.000\n",
      "std after standarization 1.000\n",
      "Shell weight\n",
      "mean after standarization 0.000\n",
      "std after standarization 1.000\n",
      "Sex_F\n",
      "mean after standarization -0.000\n",
      "std after standarization 1.000\n",
      "Sex_I\n",
      "mean after standarization -0.000\n",
      "std after standarization 1.000\n",
      "Sex_M\n",
      "mean after standarization -0.000\n",
      "std after standarization 1.000\n"
     ]
    }
   ],
   "source": [
    "#Question 1B- Standarizing the data\n",
    "for var in scaled_df.columns:\n",
    "    print(var)\n",
    "    print(\"mean after standarization %3.3f\" % scaled_df[var].mean())\n",
    "    print(\"std after standarization %3.3f\"% scaled_df[var].std())\n",
    "    "
   ]
  },
  {
   "cell_type": "code",
   "execution_count": 62,
   "metadata": {},
   "outputs": [
    {
     "data": {
      "text/plain": [
       "(3341, 11)"
      ]
     },
     "execution_count": 62,
     "metadata": {},
     "output_type": "execute_result"
    }
   ],
   "source": [
    "X_arr=X_train.values\n",
    "itercept=np.ones((X_arr.shape[0], 1))\n",
    "X_arr=np.concatenate((X_arr, itercept), axis=1)\n",
    "X_arr.shape"
   ]
  },
  {
   "cell_type": "code",
   "execution_count": 63,
   "metadata": {},
   "outputs": [
    {
     "data": {
      "text/plain": [
       "(836, 11)"
      ]
     },
     "execution_count": 63,
     "metadata": {},
     "output_type": "execute_result"
    }
   ],
   "source": [
    "X_test=X_test.values\n",
    "itercept=np.ones((X_test.shape[0], 1))\n",
    "X_test=np.concatenate((X_test, itercept), axis=1)\n",
    "X_test.shape"
   ]
  },
  {
   "cell_type": "code",
   "execution_count": 57,
   "metadata": {},
   "outputs": [
    {
     "data": {
      "text/plain": [
       "(3341, 11)"
      ]
     },
     "execution_count": 57,
     "metadata": {},
     "output_type": "execute_result"
    }
   ],
   "source": []
  },
  {
   "cell_type": "code",
   "execution_count": 47,
   "metadata": {},
   "outputs": [],
   "source": []
  },
  {
   "cell_type": "code",
   "execution_count": 64,
   "metadata": {},
   "outputs": [],
   "source": [
    "def mylinridgereg(X,y,lambdaa):\n",
    "    X_dash=np.transpose(X)\n",
    "    X_dash_X=X_dash.dot(X)\n",
    "    I= np.identity(X_dash_X.shape[0])\n",
    "    w=np.linalg.inv((X_dash_X+lambdaa*I)).dot(X_dash).dot(y)\n",
    "    return w\n",
    "    "
   ]
  },
  {
   "cell_type": "code",
   "execution_count": 65,
   "metadata": {},
   "outputs": [],
   "source": [
    "w=mylinridgereg(X_arr,y_train,1.01)\n",
    "w=w.flatten()\n"
   ]
  },
  {
   "cell_type": "code",
   "execution_count": 66,
   "metadata": {},
   "outputs": [],
   "source": [
    "def mylinridgeregeval(X, weights):\n",
    "    predited_y=X.dot(weights)\n",
    "    return predited_y"
   ]
  },
  {
   "cell_type": "code",
   "execution_count": 67,
   "metadata": {},
   "outputs": [],
   "source": [
    " predited_y_test=mylinridgeregeval(X_test, w)"
   ]
  },
  {
   "cell_type": "code",
   "execution_count": 68,
   "metadata": {},
   "outputs": [],
   "source": [
    "def meansquarederr(T, Tdash):\n",
    "    mse = (np.square(T - Tdash)).mean(axis=0)\n",
    "    return mse"
   ]
  },
  {
   "cell_type": "code",
   "execution_count": 69,
   "metadata": {},
   "outputs": [
    {
     "data": {
      "text/plain": [
       "5.611016184190003"
      ]
     },
     "execution_count": 69,
     "metadata": {},
     "output_type": "execute_result"
    }
   ],
   "source": [
    "from sklearn.metrics import mean_squared_error\n",
    "mse=meansquarederr(y_test, predited_y_test)\n",
    "mse"
   ]
  },
  {
   "cell_type": "code",
   "execution_count": 77,
   "metadata": {},
   "outputs": [
    {
     "data": {
      "image/png": "[encoded data removed]",
      "text/plain": [
       "<matplotlib.figure.Figure at 0x9b7cb70>"
      ]
     },
     "metadata": {
      "needs_background": "light"
     },
     "output_type": "display_data"
    }
   ],
   "source": [
    "#question 1H best model with test_size=0.2 and lambda=1.01\n",
    "#plotting scatter plot \n",
    "plt.scatter(predited_y_test,y_test)\n",
    "plt.xlabel(\"predicted Y\",color='g')\n",
    "plt.ylabel(\"Actual Y\",color='b')\n",
    "plt.gray()\n",
    "plt.show()"
   ]
  },
  {
   "cell_type": "code",
   "execution_count": 91,
   "metadata": {},
   "outputs": [],
   "source": [
    "#question 1d\n",
    "lambda_list=np.arange(0.01,10,1)\n",
    "mse_test_list=list()\n",
    "mse_train_list=list()\n",
    "weights=list()\n",
    "for lambdaa in lambda_list:\n",
    "    w=mylinridgereg(X_arr,y_train,lambdaa)\n",
    "    weights.append(w)\n",
    "    predicted_test_y=mylinridgeregeval(X_test, w)\n",
    "    predicted_train_y=mylinridgeregeval(X_arr, w)\n",
    "    mse_test=meansquarederr(y_test, predicted_test_y)\n",
    "    mse_test_list.append(mse_test)\n",
    "    mse_train=meansquarederr(y_train, predicted_train_y)\n",
    "    mse_train_list.append(mse_train)\n",
    "    "
   ]
  },
  {
   "cell_type": "code",
   "execution_count": 92,
   "metadata": {},
   "outputs": [
    {
     "data": {
      "image/png": "[encoded data removed]",
      "text/plain": [
       "<matplotlib.figure.Figure at 0x5294668>"
      ]
     },
     "metadata": {
      "needs_background": "light"
     },
     "output_type": "display_data"
    }
   ],
   "source": [
    "#question 1d\n",
    "from matplotlib import *\n",
    "import sys\n",
    "from pylab import *\n",
    "fig = plt.figure()\n",
    "fig.suptitle('Ridge Reg Sensitivity with Lambda', fontsize=20)\n",
    "ax1 = fig.add_subplot(111)\n",
    "\n",
    "ax2 = ax1.twinx()\n",
    "ax1.plot(lambda_list, mse_train_list, 'g-')\n",
    "ax2.plot(lambda_list, mse_test_list, 'b-')\n",
    "\n",
    "ax1.set_xlabel('Lambda')\n",
    "ax1.set_ylabel('Train MSE', color='g')\n",
    "ax2.set_ylabel('Test MSE', color='b')\n",
    "\n",
    "plt.show()"
   ]
  },
  {
   "cell_type": "code",
   "execution_count": 93,
   "metadata": {},
   "outputs": [
    {
     "name": "stdout",
     "output_type": "stream",
     "text": [
      "lambda with min Train MSE 0.01\n",
      "lambda with min Test MSE 0.01\n"
     ]
    }
   ],
   "source": [
    "#Question 1e\n",
    "import numpy as np\n",
    "min_train_index= np.argmin(mse_train_list)\n",
    "min_test_index= np.argmin(mse_test_list)\n",
    "\n",
    "print(\"lambda with min Train MSE\",lambda_list[min_train_index])\n",
    "print(\"lambda with min Test MSE\",lambda_list[min_test_index])\n",
    "\n"
   ]
  },
  {
   "cell_type": "code",
   "execution_count": 106,
   "metadata": {},
   "outputs": [
    {
     "data": {
      "text/plain": [
       "5.6050787586634465"
      ]
     },
     "execution_count": 106,
     "metadata": {},
     "output_type": "execute_result"
    }
   ],
   "source": [
    "min(mse_test_list)"
   ]
  },
  {
   "cell_type": "code",
   "execution_count": 94,
   "metadata": {},
   "outputs": [
    {
     "data": {
      "text/plain": [
       "array([ 0.13574256,  0.62457253,  0.87174463,  4.13112642, -4.22106434,\n",
       "       -1.23046732,  1.25230328,  0.10992782, -0.26392056,  0.15116357,\n",
       "        9.90987755])"
      ]
     },
     "execution_count": 94,
     "metadata": {},
     "output_type": "execute_result"
    }
   ],
   "source": [
    "significant_wts=weights[min_test_index]\n",
    "significant_wts"
   ]
  },
  {
   "cell_type": "code",
   "execution_count": 95,
   "metadata": {},
   "outputs": [],
   "source": [
    "columns=X_train.columns\n",
    "columns=columns.tolist()\n",
    "columns.append(\"intercept\")"
   ]
  },
  {
   "cell_type": "code",
   "execution_count": 98,
   "metadata": {},
   "outputs": [
    {
     "name": "stdout",
     "output_type": "stream",
     "text": [
      "Variable importance are- \n",
      " [['intercept' '9.909877551997747']\n",
      " ['Shucked weight' '4.22106433956299']\n",
      " ['Whole weight' '4.131126421841506']\n",
      " ['Shell weight' '1.2523032840887554']\n",
      " ['Viscera weight' '1.2304673175518417']\n",
      " ['Height' '0.8717446339193282']\n",
      " ['Diameter' '0.62457252758646']\n",
      " ['Sex_I' '0.26392056124281676']\n",
      " ['Sex_M' '0.1511635732121087']\n",
      " ['Length' '0.13574256217542313']\n",
      " ['Sex_F' '0.10992782440138774']]\n"
     ]
    }
   ],
   "source": [
    "#Significance of variables\n",
    "parameter_coeff=np.vstack((columns,abs(significant_wts)))\n",
    "parameter_coeff=np.transpose(parameter_coeff)\n",
    "Variable_importance = parameter_coeff[parameter_coeff[:,1].argsort()[::-1]]\n",
    "print(\"Variable importance are- \\n\",Variable_importance)"
   ]
  },
  {
   "cell_type": "code",
   "execution_count": 100,
   "metadata": {},
   "outputs": [
    {
     "data": {
      "text/html": [
       "<div>\n",
       "<style>\n",
       "    .dataframe thead tr:only-child th {\n",
       "        text-align: right;\n",
       "    }\n",
       "\n",
       "    .dataframe thead th {\n",
       "        text-align: left;\n",
       "    }\n",
       "\n",
       "    .dataframe tbody tr th {\n",
       "        vertical-align: top;\n",
       "    }\n",
       "</style>\n",
       "<table border=\"1\" class=\"dataframe\">\n",
       "  <thead>\n",
       "    <tr style=\"text-align: right;\">\n",
       "      <th></th>\n",
       "      <th>Length</th>\n",
       "      <th>Diameter</th>\n",
       "      <th>Height</th>\n",
       "      <th>Whole weight</th>\n",
       "      <th>Shucked weight</th>\n",
       "      <th>Viscera weight</th>\n",
       "      <th>Shell weight</th>\n",
       "      <th>Sex_F</th>\n",
       "      <th>Sex_I</th>\n",
       "      <th>Sex_M</th>\n",
       "    </tr>\n",
       "  </thead>\n",
       "  <tbody>\n",
       "    <tr>\n",
       "      <th>0</th>\n",
       "      <td>-0.574558</td>\n",
       "      <td>-0.432149</td>\n",
       "      <td>-1.064424</td>\n",
       "      <td>-0.641898</td>\n",
       "      <td>-0.607685</td>\n",
       "      <td>-0.726212</td>\n",
       "      <td>-0.638217</td>\n",
       "      <td>-0.674834</td>\n",
       "      <td>-0.688018</td>\n",
       "      <td>1.316677</td>\n",
       "    </tr>\n",
       "    <tr>\n",
       "      <th>1</th>\n",
       "      <td>-1.448986</td>\n",
       "      <td>-1.439929</td>\n",
       "      <td>-1.183978</td>\n",
       "      <td>-1.230277</td>\n",
       "      <td>-1.170910</td>\n",
       "      <td>-1.205221</td>\n",
       "      <td>-1.212987</td>\n",
       "      <td>-0.674834</td>\n",
       "      <td>-0.688018</td>\n",
       "      <td>1.316677</td>\n",
       "    </tr>\n",
       "    <tr>\n",
       "      <th>2</th>\n",
       "      <td>0.050033</td>\n",
       "      <td>0.122130</td>\n",
       "      <td>-0.107991</td>\n",
       "      <td>-0.309469</td>\n",
       "      <td>-0.463500</td>\n",
       "      <td>-0.356690</td>\n",
       "      <td>-0.207139</td>\n",
       "      <td>1.481846</td>\n",
       "      <td>-0.688018</td>\n",
       "      <td>-0.759488</td>\n",
       "    </tr>\n",
       "    <tr>\n",
       "      <th>3</th>\n",
       "      <td>-0.699476</td>\n",
       "      <td>-0.432149</td>\n",
       "      <td>-0.347099</td>\n",
       "      <td>-0.637819</td>\n",
       "      <td>-0.648238</td>\n",
       "      <td>-0.607600</td>\n",
       "      <td>-0.602294</td>\n",
       "      <td>-0.674834</td>\n",
       "      <td>-0.688018</td>\n",
       "      <td>1.316677</td>\n",
       "    </tr>\n",
       "    <tr>\n",
       "      <th>4</th>\n",
       "      <td>-1.615544</td>\n",
       "      <td>-1.540707</td>\n",
       "      <td>-1.423087</td>\n",
       "      <td>-1.272086</td>\n",
       "      <td>-1.215968</td>\n",
       "      <td>-1.287337</td>\n",
       "      <td>-1.320757</td>\n",
       "      <td>-0.674834</td>\n",
       "      <td>1.453451</td>\n",
       "      <td>-0.759488</td>\n",
       "    </tr>\n",
       "  </tbody>\n",
       "</table>\n",
       "</div>"
      ],
      "text/plain": [
       "     Length  Diameter    Height  Whole weight  Shucked weight  Viscera weight  \\\n",
       "0 -0.574558 -0.432149 -1.064424     -0.641898       -0.607685       -0.726212   \n",
       "1 -1.448986 -1.439929 -1.183978     -1.230277       -1.170910       -1.205221   \n",
       "2  0.050033  0.122130 -0.107991     -0.309469       -0.463500       -0.356690   \n",
       "3 -0.699476 -0.432149 -0.347099     -0.637819       -0.648238       -0.607600   \n",
       "4 -1.615544 -1.540707 -1.423087     -1.272086       -1.215968       -1.287337   \n",
       "\n",
       "   Shell weight     Sex_F     Sex_I     Sex_M  \n",
       "0     -0.638217 -0.674834 -0.688018  1.316677  \n",
       "1     -1.212987 -0.674834 -0.688018  1.316677  \n",
       "2     -0.207139  1.481846 -0.688018 -0.759488  \n",
       "3     -0.602294 -0.674834 -0.688018  1.316677  \n",
       "4     -1.320757 -0.674834  1.453451 -0.759488  "
      ]
     },
     "execution_count": 100,
     "metadata": {},
     "output_type": "execute_result"
    }
   ],
   "source": [
    "scaled_df.head()"
   ]
  },
  {
   "cell_type": "code",
   "execution_count": 109,
   "metadata": {},
   "outputs": [
    {
     "name": "stdout",
     "output_type": "stream",
     "text": [
      "Train MSE while removing least significant variables 4.670986070326347\n",
      "Test MSE while removing least significant variables 5.688067212936557\n"
     ]
    }
   ],
   "source": [
    "# 1D removing Sex_M, Length, Sex_F and running the model\n",
    "scaled_df_trim=scaled_df.drop(['Length','Sex_F'],axis=1)\n",
    "from sklearn.model_selection import train_test_split\n",
    "X_train_trim, X_test_trim, y_train_trim, y_test_trim= train_test_split(scaled_df_trim,y,test_size=0.20,random_state=3250)\n",
    "\n",
    "#adding intercept term\n",
    "X_train_trim=X_train_trim.values\n",
    "itercept=np.ones((X_train_trim.shape[0], 1))\n",
    "X_train_trim=np.concatenate((X_train_trim, itercept), axis=1)\n",
    "X_train_trim.shape\n",
    "\n",
    "X_test_trim=X_test_trim.values\n",
    "itercept=np.ones((X_test_trim.shape[0], 1))\n",
    "X_test_trim=np.concatenate((X_test_trim, itercept), axis=1)\n",
    "X_test_trim.shape\n",
    "\n",
    "#training and predicitng \n",
    "\n",
    "w=mylinridgereg(X_train_trim,y_train_trim,0.01)\n",
    "predicted_test_y=mylinridgeregeval(X_test_trim, w)\n",
    "predicted_train_y=mylinridgeregeval(X_train_trim, w)\n",
    "mse_test=meansquarederr(y_test, predicted_test_y)\n",
    "\n",
    "mse_train=meansquarederr(y_train, predicted_train_y)\n",
    "\n",
    "\n",
    "print(\"Train MSE while removing least significant variables\",mse_train)\n",
    "print(\"Test MSE while removing least significant variables\",mse_test)\n",
    "\n"
   ]
  },
  {
   "cell_type": "code",
   "execution_count": 28,
   "metadata": {},
   "outputs": [],
   "source": [
    "#Question 1F\n",
    "from sklearn.model_selection import train_test_split\n",
    "def remove_random_bias(test_size):\n",
    "    lambda_list=np.arange(0.01,10,1)\n",
    "    random_state_list=[1132,\t1212,\t212,\t455,\t235,\t124,\t1455,\t1233,\t1678,\t1235,\t\n",
    "     2264,\t2424,\t424,\t910,\t470,\t248,\t2910,\t2466,\t3356,\t2470,\t32,\t12,\t56,\t45,\t888]\n",
    "    mse_test_list=list()\n",
    "    mse_train_list=list()\n",
    "    mse_test_avg_list=list()\n",
    "    mse_train_avg_list=list()\n",
    "    weights=list()\n",
    "    for lambdaa in lambda_list:\n",
    "        for random_state in random_state_list:\n",
    "            X_train, X_test, y_train, y_test= train_test_split(X,y,test_size=test_size,random_state=random_state)     \n",
    "            \n",
    "            for var in X_train.columns:\n",
    "                mean=X_train[var].mean()\n",
    "                std=X_train[var].std()\n",
    "                X_train[var]=(X_train[var]-mean)/std\n",
    "                X_test[var]=(X_test[var]-mean)/std\n",
    "                \n",
    "            X_train=X_train.values\n",
    "            itercept=np.ones((X_train.shape[0], 1))\n",
    "            X_train=np.concatenate((X_train, itercept), axis=1)\n",
    "            \n",
    "            X_test=X_test.values\n",
    "            itercept=np.ones((X_test.shape[0], 1))\n",
    "            X_test=np.concatenate((X_test, itercept), axis=1)\n",
    "                \n",
    "            w=mylinridgereg(X_train,y_train,lambdaa)\n",
    "            weights.append(w)\n",
    "            predicted_test_y=mylinridgeregeval(X_test, w)\n",
    "            predicted_train_y=mylinridgeregeval(X_train, w)\n",
    "            mse_test=meansquarederr(y_test, predicted_test_y)\n",
    "            mse_test_list.append(mse_test)\n",
    "            mse_train=meansquarederr(y_train, predicted_train_y)\n",
    "            mse_train_list.append(mse_train)\n",
    "        \n",
    "        mse_test_avg_list.append(np.mean(mse_test_list))\n",
    "        mse_train_avg_list.append(np.mean(mse_train_list))\n",
    "    return (lambda_list,mse_train_avg_list,mse_test_avg_list)\n",
    "            "
   ]
  },
  {
   "cell_type": "code",
   "execution_count": 51,
   "metadata": {},
   "outputs": [],
   "source": [
    "test_size=0.3\n",
    "lambdaa,train_mse,test_mse=remove_random_bias(test_size)"
   ]
  },
  {
   "cell_type": "code",
   "execution_count": 47,
   "metadata": {},
   "outputs": [
    {
     "data": {
      "image/png": "[encoded data removed]",
      "text/plain": [
       "<matplotlib.figure.Figure at 0x98a5eb8>"
      ]
     },
     "metadata": {
      "needs_background": "light"
     },
     "output_type": "display_data"
    }
   ],
   "source": [
    "#question 1F\n",
    "from matplotlib import *\n",
    "import sys\n",
    "from pylab import *\n",
    "fig = plt.figure()\n",
    "fig.suptitle('Ridge Reg Sensitivity with 65/35 train/test split', fontsize=20)\n",
    "ax1 = fig.add_subplot(111)\n",
    "\n",
    "ax2 = ax1.twinx()\n",
    "ax1.plot(lambdaa, train_mse, 'g-')\n",
    "ax2.plot(lambdaa, test_mse, 'b-')\n",
    "\n",
    "ax1.set_xlabel('Lambda')\n",
    "ax1.set_ylabel('Train MSE', color='g')\n",
    "ax2.set_ylabel('Test MSE', color='b')\n",
    "\n",
    "plt.show()"
   ]
  },
  {
   "cell_type": "code",
   "execution_count": 52,
   "metadata": {},
   "outputs": [
    {
     "name": "stdout",
     "output_type": "stream",
     "text": [
      "0.3\n",
      "0.01\n",
      "4.980757084346844\n"
     ]
    }
   ],
   "source": [
    "#Question 1G\n",
    "import numpy as np\n",
    "min_test_index= np.argmin(test_mse)\n",
    "min_test_mse=test_mse[min_test_index]\n",
    "min_lambdaa=lambdaa[min_test_index]\n",
    "print(test_size)\n",
    "print(min_lambdaa)\n",
    "print(min_test_mse)"
   ]
  },
  {
   "cell_type": "code",
   "execution_count": null,
   "metadata": {},
   "outputs": [],
   "source": []
  },
  {
   "cell_type": "code",
   "execution_count": 53,
   "metadata": {},
   "outputs": [
    {
     "data": {
      "text/plain": [
       "Ridge(alpha=0.1, copy_X=True, fit_intercept=False, max_iter=None,\n",
       "   normalize=False, random_state=None, solver='cholesky', tol=0.001)"
      ]
     },
     "execution_count": 53,
     "metadata": {},
     "output_type": "execute_result"
    }
   ],
   "source": [
    "from sklearn.linear_model import Ridge\n",
    "ridge=Ridge(alpha=0.1,solver='cholesky',fit_intercept=False)\n",
    "ridge.fit(X_arr,y_train)\n"
   ]
  },
  {
   "cell_type": "code",
   "execution_count": 27,
   "metadata": {},
   "outputs": [
    {
     "name": "stdout",
     "output_type": "stream",
     "text": [
      "[0.01 1.01 2.01 3.01 4.01 5.01 6.01 7.01 8.01 9.01] [103.62707726357621, 103.62726248227521, 103.62765079392962, 103.62820650554221, 103.6289004797051, 103.62970879224416, 103.63061169660759, 103.63159281758682, 103.63263851828492, 103.63373739922827] [103.72394305553051, 103.72127521812139, 103.7189806327725, 103.71700596172664, 103.71530689970787, 103.71384639996629, 103.71259329581342, 103.71152121940565, 103.71060774631441, 103.70983371328761]\n"
     ]
    }
   ],
   "source": [
    "print(lambdaa,train_mse,test_mse)"
   ]
  },
  {
   "cell_type": "code",
   "execution_count": 54,
   "metadata": {},
   "outputs": [
    {
     "data": {
      "text/plain": [
       "array([ 0.13577479,  0.62435329,  0.87186461,  4.11447297, -4.21310865,\n",
       "       -1.22651393,  1.25755986,  0.10998623, -0.26397695,  0.15116217,\n",
       "        9.90961061])"
      ]
     },
     "execution_count": 54,
     "metadata": {},
     "output_type": "execute_result"
    }
   ],
   "source": [
    "sk_predict_y_test=ridge.predict(X_test)\n",
    "ridge.coef_"
   ]
  },
  {
   "cell_type": "code",
   "execution_count": 27,
   "metadata": {},
   "outputs": [
    {
     "data": {
      "text/plain": [
       "array([ 0.14254131,  0.60286351,  0.88185834,  2.93311633, -3.63288888,\n",
       "       -0.94725268,  1.61531409,  0.11464946, -0.26831022,  0.15088565,\n",
       "        9.88325408])"
      ]
     },
     "execution_count": 27,
     "metadata": {},
     "output_type": "execute_result"
    }
   ],
   "source": [
    "w"
   ]
  },
  {
   "cell_type": "code",
   "execution_count": 55,
   "metadata": {},
   "outputs": [
    {
     "data": {
      "text/plain": [
       "5.60560531829612"
      ]
     },
     "execution_count": 55,
     "metadata": {},
     "output_type": "execute_result"
    }
   ],
   "source": [
    "from sklearn.metrics import mean_squared_error\n",
    "mean_squared_error(y_test,sk_predict_y_test)"
   ]
  }
 ],
 "metadata": {
  "kernelspec": {
   "display_name": "Python 3",
   "language": "python",
   "name": "python3"
  },
  "language_info": {
   "codemirror_mode": {
    "name": "ipython",
    "version": 3
   },
   "file_extension": ".py",
   "mimetype": "text/x-python",
   "name": "python",
   "nbconvert_exporter": "python",
   "pygments_lexer": "ipython3",
   "version": "3.6.6"
  }
 },
 "nbformat": 4,
 "nbformat_minor": 2
}
